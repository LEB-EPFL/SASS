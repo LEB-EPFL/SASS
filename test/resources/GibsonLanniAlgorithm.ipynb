{
 "cells": [
  {
   "cell_type": "markdown",
   "metadata": {},
   "source": [
    "Generate test data for SASS implementation of the Gibson-Lanni PSF.\n",
    "\n",
    "This Python algorithm has been verified against the original MATLAB code from the paper Li, J., Xue, F., & Blu, T. (2017). Fast and accurate three-dimensional point spread function computation for fluorescence microscopy. JOSA A, 34(6), 1029-1034."
   ]
  },
  {
   "cell_type": "code",
   "execution_count": 1,
   "metadata": {
    "collapsed": false
   },
   "outputs": [
    {
     "name": "stdout",
     "output_type": "stream",
     "text": [
      "Populating the interactive namespace from numpy and matplotlib\n",
      "Python 3.5.2 |Anaconda 2.5.0 (64-bit)| (default, Jul  2 2016, 17:53:06) \n",
      "[GCC 4.4.7 20120313 (Red Hat 4.4.7-1)]\n",
      "\n",
      "NumPy\t\t1.13.1\n",
      "matplotlib\t2.0.2\n",
      "SciPy\t\t0.19.1\n"
     ]
    }
   ],
   "source": [
    "import sys\n",
    "%pylab inline\n",
    "import scipy.special\n",
    "from scipy.interpolate import interp1d\n",
    "from scipy.interpolate import RectBivariateSpline\n",
    "\n",
    "print('Python {}\\n'.format(sys.version))\n",
    "print('NumPy\\t\\t{}'.format(np.__version__))\n",
    "print('matplotlib\\t{}'.format(matplotlib.__version__))\n",
    "print('SciPy\\t\\t{}'.format(scipy.__version__))"
   ]
  },
  {
   "cell_type": "markdown",
   "metadata": {},
   "source": [
    "# Simulation setup\n",
    "## Define the simulation parameters"
   ]
  },
  {
   "cell_type": "code",
   "execution_count": 2,
   "metadata": {
    "collapsed": true
   },
   "outputs": [],
   "source": [
    "# Image properties\n",
    "# Size of the PSF array, pixels\n",
    "size_x = 256\n",
    "size_y = 256\n",
    "size_z = 1\n",
    "\n",
    "# Precision control\n",
    "num_basis    = 100  # Number of rescaled Bessels that approximate the phase function\n",
    "num_samples  = 1000 # Number of pupil samples along radial direction\n",
    "oversampling = 2    # Defines the upsampling ratio on the image space grid for computations\n",
    "\n",
    "# Microscope parameters\n",
    "NA          = 1.4\n",
    "wavelength  = 0.610 # microns\n",
    "M           = 100   # magnification\n",
    "ns          = 1.33  # specimen refractive index (RI)\n",
    "ng0         = 1.5   # coverslip RI design value\n",
    "ng          = 1.5   # coverslip RI experimental value\n",
    "ni0         = 1.5   # immersion medium RI design value\n",
    "ni          = 1.5   # immersion medium RI experimental value\n",
    "ti0         = 150   # microns, working distance (immersion medium thickness) design value\n",
    "tg0         = 170   # microns, coverslip thickness design value\n",
    "tg          = 170   # microns, coverslip thickness experimental value\n",
    "resPSF      = 0.02  # microns (resPSF in the Java code)\n",
    "resLateral  = 0.1   # microns (resLateral in the Java code)\n",
    "res_axial   = 0.25  # microns\n",
    "pZ          = 2     # microns, particle distance from coverslip\n",
    "z           = [-2]  # microns, stage displacement away from best focus\n",
    "\n",
    "# Scaling factors for the Fourier-Bessel series expansion\n",
    "min_wavelength = 0.436 # microns\n",
    "scaling_factor = NA * (3 * np.arange(1, num_basis + 1) - 2) * min_wavelength / wavelength"
   ]
  },
  {
   "cell_type": "markdown",
   "metadata": {},
   "source": [
    "## Create the coordinate systems"
   ]
  },
  {
   "cell_type": "code",
   "execution_count": 3,
   "metadata": {
    "collapsed": false
   },
   "outputs": [],
   "source": [
    "# Place the origin at the center of the final PSF array\n",
    "x0 = (size_x - 1) / 2\n",
    "y0 = (size_y - 1) / 2\n",
    "\n",
    "# Find the maximum possible radius coordinate of the PSF array by finding the distance\n",
    "# from the center of the array to a corner\n",
    "max_radius = round(sqrt((size_x - x0) * (size_x - x0) + (size_y - y0) * (size_y - y0))) + 1;\n",
    "\n",
    "# Radial coordinates, image space\n",
    "r = resPSF * np.arange(0, oversampling * max_radius) / oversampling\n",
    "\n",
    "# Radial coordinates, pupil space\n",
    "a = min([NA, ns, ni, ni0, ng, ng0]) / NA\n",
    "rho = np.linspace(0, a, num_samples)\n",
    "\n",
    "# Convert z to array\n",
    "z = np.array(z)"
   ]
  },
  {
   "cell_type": "markdown",
   "metadata": {},
   "source": [
    "# Step 1: Approximate the pupil phase with a Fourier-Bessel series\n",
    "\n",
    "`z.reshape(-1,1)` flips `z` from a row array to a column array so that it may be broadcast across `rho`.\n",
    "\n",
    "The coefficients `C` are found by a least-squares solution to the equation\n",
    "\n",
    "\\begin{equation*}\n",
    "\\mathbf{\\phi} \\left( \\rho , z \\right)= \\mathbf{J} \\left( \\rho \\right) \\mathbf{c} \\left( z \\right)\n",
    "\\end{equation*}\n",
    "\n",
    "\\\\( \\mathbf{c} \\\\) has dimensions `num_basis` \\\\( \\times \\\\) `len(z)`. The `J` array has dimensions `num_basis` \\\\( \\times \\\\) `len(rho)` and the `phase` array has dimensions `len(z)` \\\\( \\times \\\\) `len(rho)`. The `J` and `phase` arrays are therefore transposed to get the dimensions right in the call to `np.linalg.lstsq`."
   ]
  },
  {
   "cell_type": "code",
   "execution_count": 4,
   "metadata": {
    "collapsed": false
   },
   "outputs": [],
   "source": [
    "# Define the wavefront aberration\n",
    "OPDs = pZ * np.sqrt(ns * ns - NA * NA * rho * rho) # OPD in the sample\n",
    "OPDi = (z.reshape(-1,1) + ti0) * np.sqrt(ni * ni - NA * NA * rho * rho) - ti0 * np.sqrt(ni0 * ni0 - NA * NA * rho * rho) # OPD in the immersion medium\n",
    "OPDg = tg * np.sqrt(ng * ng - NA * NA * rho * rho) - tg0 * np.sqrt(ng0 * ng0 - NA * NA * rho * rho) # OPD in the coverslip\n",
    "W    = 2 * np.pi / wavelength * (OPDs + OPDi + OPDg)\n",
    "\n",
    "# Sample the phase\n",
    "# Shape is (number of z samples by number of rho samples)\n",
    "phase = np.cos(W) + 1j * np.sin(W)\n",
    "\n",
    "# Define the basis of Bessel functions\n",
    "# Shape is (number of basis functions by number of rho samples)\n",
    "J = scipy.special.jv(0, scaling_factor.reshape(-1, 1) * rho)\n",
    "\n",
    "# Compute the approximation to the sampled pupil phase by finding the least squares\n",
    "# solution to the complex coefficients of the Fourier-Bessel expansion.\n",
    "# Shape of C is (number of basis functions by number of z samples).\n",
    "# Note the matrix transposes to get the dimensions correct.\n",
    "C, residuals, _, _ = np.linalg.lstsq(J.T, phase.T)"
   ]
  },
  {
   "cell_type": "markdown",
   "metadata": {},
   "source": [
    "# Step 2: Compute the PSF\n",
    "\n",
    "Here, we use the Fourier-Bessel series expansion of the phase function and a Bessel integral identity to compute the approximate PSF. Each coefficient \\\\( c_{m} \\left( z \\right) \\\\) needs to be multiplied by\n",
    "\n",
    "\\begin{equation*}\n",
    "R \\left(r; \\mathbf{p} \\right) = \\frac{\\sigma_m J_1 \\left( \\sigma_m a \\right) J_0 \\left( \\beta a \\right)a - \\beta J_0 \\left( \\sigma_m a \\right) J_1 \\left( \\beta a \\right)a }{\\sigma_m^2 - \\beta^2}\n",
    "\\end{equation*}\n",
    "\n",
    "and the resulting products summed over the number of basis functions. \\\\( \\mathbf{p} \\\\) is the parameter vector for the Gibson-Lanni model, \\\\( \\sigma_m \\\\) is the scaling factor for the argument to the \\\\( m'th \\\\) Bessel basis function, and \\\\( \\beta = kr\\text{NA} \\\\).\n",
    "\n",
    "`b` is defined such that `R` has dimensions of `len(r)` \\\\( \\times \\\\) `len(rho)`."
   ]
  },
  {
   "cell_type": "code",
   "execution_count": 5,
   "metadata": {
    "collapsed": true
   },
   "outputs": [],
   "source": [
    "b = 2 * np. pi * r.reshape(-1, 1) * NA / wavelength\n",
    "\n",
    "# Convenience functions for J0 and J1 Bessel functions\n",
    "J0 = lambda x: scipy.special.jv(0, x)\n",
    "J1 = lambda x: scipy.special.jv(1, x)\n",
    "\n",
    "# See equation 5 in Li, Xue, and Blu\n",
    "denom = scaling_factor * scaling_factor - b * b\n",
    "R = (scaling_factor * J1(scaling_factor * a) * J0(b * a) * a - b * J0(scaling_factor * a) * J1(b * a) * a)\n",
    "R /= denom"
   ]
  },
  {
   "cell_type": "markdown",
   "metadata": {},
   "source": [
    "Now compute the point-spread function via\n",
    "\n",
    "\\begin{equation*}\n",
    "PSF \\left( r, z; z_p, \\mathbf{p} \\right) = \\left| \\mathbf{R} \\left( r; \\mathbf{p} \\right) \\mathbf{c} \\left( z \\right) \\right|^2\n",
    "\\end{equation*}"
   ]
  },
  {
   "cell_type": "code",
   "execution_count": 6,
   "metadata": {
    "collapsed": false
   },
   "outputs": [],
   "source": [
    "# The transpose places the axial direction along the first dimension of the array, i.e. rows\n",
    "# This is only for convenience.\n",
    "PSF_rz = (np.abs(R.dot(C))**2).T"
   ]
  },
  {
   "cell_type": "markdown",
   "metadata": {},
   "source": [
    "# Step 3: Resample the PSF onto a rotationally-symmetric Cartesian grid\n",
    "\n",
    "Here we generate a two dimensional grid where the value at each grid point is the distance of the point from the center of the grid. These values are supplied to an interpolation function computed from `PSF_rz` to produce a rotationally-symmetric 2D PSF at each z-position."
   ]
  },
  {
   "cell_type": "code",
   "execution_count": 7,
   "metadata": {
    "collapsed": false
   },
   "outputs": [],
   "source": [
    "# Create the fleshed-out xy grid of radial distances from the center\n",
    "xy      = np.mgrid[0:size_y, 0:size_x]\n",
    "r_pixel = np.sqrt((xy[1] - x0) * (xy[1] - x0) + (xy[0] - y0) * (xy[0] - y0)) * resPSF\n",
    "\n",
    "PSF = np.zeros((size_y, size_x, size_z))\n",
    "\n",
    "for z_index in range(PSF.shape[2]):\n",
    "    # Interpolate the radial PSF function\n",
    "    PSF_interp = interp1d(r, PSF_rz[z_index, :])\n",
    "    \n",
    "    # Evaluate the PSF at each value of r_pixel\n",
    "    PSF[:,:, z_index] = PSF_interp(r_pixel.ravel()).reshape(size_y, size_x)"
   ]
  },
  {
   "cell_type": "code",
   "execution_count": 8,
   "metadata": {
    "collapsed": true
   },
   "outputs": [],
   "source": [
    "# Normalize to the area\n",
    "norm_const = np.sum(np.sum(PSF[:,:,0])) * resPSF**2\n",
    "PSF /= norm_const"
   ]
  },
  {
   "cell_type": "code",
   "execution_count": 9,
   "metadata": {
    "collapsed": false
   },
   "outputs": [
    {
     "data": {
      "image/png": "[encoded data removed]",
      "text/plain": [
       "<matplotlib.figure.Figure at 0x7f2447d5b0b8>"
      ]
     },
     "metadata": {},
     "output_type": "display_data"
    }
   ],
   "source": [
    "plt.imshow(PSF[:,:,0])\n",
    "plt.show()"
   ]
  },
  {
   "cell_type": "markdown",
   "metadata": {
    "collapsed": true
   },
   "source": [
    "# Compute the cumulative distribution"
   ]
  },
  {
   "cell_type": "code",
   "execution_count": 10,
   "metadata": {
    "collapsed": false
   },
   "outputs": [
    {
     "name": "stdout",
     "output_type": "stream",
     "text": [
      "Min: 0.0000\n",
      "Max: 1.0000\n"
     ]
    }
   ],
   "source": [
    "cdf = np.cumsum(PSF[:,:,0], axis=1) * resPSF\n",
    "cdf = np.cumsum(cdf, axis=0) * resPSF\n",
    "print('Min: {:.4f}'.format(np.min(cdf)))\n",
    "print('Max: {:.4f}'.format(np.max(cdf)))"
   ]
  },
  {
   "cell_type": "code",
   "execution_count": 11,
   "metadata": {
    "collapsed": false
   },
   "outputs": [
    {
     "data": {
      "image/png": "[encoded data removed]",
      "text/plain": [
       "<matplotlib.figure.Figure at 0x7f2448486f28>"
      ]
     },
     "metadata": {},
     "output_type": "display_data"
    }
   ],
   "source": [
    "plt.imshow(cdf)\n",
    "plt.show()"
   ]
  },
  {
   "cell_type": "markdown",
   "metadata": {
    "collapsed": true
   },
   "source": [
    "## Interpolate the cumulative distribution\n",
    "\n",
    "Here, we also create the Python equivalent to the getPixelSignature function.\n",
    "\n",
    "Note that the ground truth is not symmetric about the center pixel because of the finite sampling of the CDF; it becomes more symmetric the smaller resPSF is and the larger sizeX/Y are."
   ]
  },
  {
   "cell_type": "code",
   "execution_count": 12,
   "metadata": {
    "collapsed": true
   },
   "outputs": [],
   "source": [
    "x = (resPSF * (xy[1] - x0))[0]\n",
    "y = (resPSF * (xy[0] - y0))[:,0]\n",
    "\n",
    "# Compute the interpolated CDF\n",
    "f = RectBivariateSpline(x, y, cdf)"
   ]
  },
  {
   "cell_type": "code",
   "execution_count": 13,
   "metadata": {
    "collapsed": false
   },
   "outputs": [],
   "source": [
    "def generatePixelSignature(pX, pY, eX, eY, eZ):\n",
    "    value = f((pX - eX + 0.5) * resLateral, (pY - eY + 0.5) * resLateral) + \\\n",
    "            f((pX - eX - 0.5) * resLateral, (pY - eY - 0.5) * resLateral) - \\\n",
    "            f((pX - eX + 0.5) * resLateral, (pY - eY - 0.5) * resLateral) - \\\n",
    "            f((pX - eX - 0.5) * resLateral, (pY - eY + 0.5) * resLateral)\n",
    "    return value"
   ]
  },
  {
   "cell_type": "code",
   "execution_count": 14,
   "metadata": {
    "collapsed": false
   },
   "outputs": [
    {
     "data": {
      "text/plain": [
       "array([[ 0.02800397]])"
      ]
     },
     "execution_count": 14,
     "metadata": {},
     "output_type": "execute_result"
    }
   ],
   "source": [
    "generatePixelSignature(0, 0, 0, -1, 0)"
   ]
  },
  {
   "cell_type": "code",
   "execution_count": 15,
   "metadata": {
    "collapsed": false
   },
   "outputs": [
    {
     "data": {
      "text/plain": [
       "array([[ 0.03726069]])"
      ]
     },
     "execution_count": 15,
     "metadata": {},
     "output_type": "execute_result"
    }
   ],
   "source": [
    "generatePixelSignature(1, 1, 1, 1, 0)"
   ]
  },
  {
   "cell_type": "code",
   "execution_count": 16,
   "metadata": {
    "collapsed": false
   },
   "outputs": [
    {
     "data": {
      "text/plain": [
       "array([[ 0.02800397]])"
      ]
     },
     "execution_count": 16,
     "metadata": {},
     "output_type": "execute_result"
    }
   ],
   "source": [
    "generatePixelSignature(2, 1, 1, 1, 0)"
   ]
  },
  {
   "cell_type": "code",
   "execution_count": 17,
   "metadata": {
    "collapsed": false
   },
   "outputs": [
    {
     "data": {
      "text/plain": [
       "array([[ 0.03077785]])"
      ]
     },
     "execution_count": 17,
     "metadata": {},
     "output_type": "execute_result"
    }
   ],
   "source": [
    "generatePixelSignature(0, 1, 1, 1, 0)"
   ]
  },
  {
   "cell_type": "code",
   "execution_count": 18,
   "metadata": {
    "collapsed": false
   },
   "outputs": [
    {
     "data": {
      "text/plain": [
       "array([[ 0.02800397]])"
      ]
     },
     "execution_count": 18,
     "metadata": {},
     "output_type": "execute_result"
    }
   ],
   "source": [
    "generatePixelSignature(1, 2, 1, 1, 0)"
   ]
  },
  {
   "cell_type": "code",
   "execution_count": 19,
   "metadata": {
    "collapsed": false
   },
   "outputs": [
    {
     "data": {
      "text/plain": [
       "array([[ 0.03077785]])"
      ]
     },
     "execution_count": 19,
     "metadata": {},
     "output_type": "execute_result"
    }
   ],
   "source": [
    "generatePixelSignature(1, 0, 1, 1, 0)"
   ]
  },
  {
   "cell_type": "code",
   "execution_count": null,
   "metadata": {
    "collapsed": true
   },
   "outputs": [],
   "source": []
  },
  {
   "cell_type": "code",
   "execution_count": 20,
   "metadata": {
    "collapsed": false
   },
   "outputs": [
    {
     "data": {
      "text/plain": [
       "array([[ 0.01628886]])"
      ]
     },
     "execution_count": 20,
     "metadata": {},
     "output_type": "execute_result"
    }
   ],
   "source": [
    "generatePixelSignature(-1, 1, 1, 1, 0)"
   ]
  },
  {
   "cell_type": "code",
   "execution_count": 21,
   "metadata": {
    "collapsed": false
   },
   "outputs": [
    {
     "data": {
      "text/plain": [
       "array([[ 0.01377306]])"
      ]
     },
     "execution_count": 21,
     "metadata": {},
     "output_type": "execute_result"
    }
   ],
   "source": [
    "generatePixelSignature(3, 1, 1, 1, 0)"
   ]
  },
  {
   "cell_type": "code",
   "execution_count": null,
   "metadata": {
    "collapsed": true
   },
   "outputs": [],
   "source": []
  }
 ],
 "metadata": {
  "anaconda-cloud": {},
  "kernelspec": {
   "display_name": "Python 3",
   "language": "python",
   "name": "python3"
  },
  "language_info": {
   "codemirror_mode": {
    "name": "ipython",
    "version": 3
   },
   "file_extension": ".py",
   "mimetype": "text/x-python",
   "name": "python",
   "nbconvert_exporter": "python",
   "pygments_lexer": "ipython3",
   "version": "3.5.2"
  }
 },
 "nbformat": 4,
 "nbformat_minor": 2
}
